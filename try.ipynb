similarity_df = pd.read_csv(os.path.join('images/'.csv'))
    similarities = similarity_df[image_id]
    similarities = similarities.drop(labels=[image_id])
    best_match = similarities.idxmax()