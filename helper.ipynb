{
 "cells": [
  {
   "cell_type": "code",
   "execution_count": 2,
   "metadata": {},
   "outputs": [],
   "source": [
    "import os\n",
    "import random\n",
    "import csv\n",
    "import re\n",
    "import json\n",
    "import pandas as pd"
   ]
  },
  {
   "cell_type": "code",
   "execution_count": null,
   "metadata": {},
   "outputs": [],
   "source": [
    "#### delete image_data.csv from category folder\n",
    "\n",
    "def delete_image_data_csv(root_folder):\n",
    "    for root, _, files in os.walk(root_folder):\n",
    "        for file in files:\n",
    "            if file == 'image_data.csv':\n",
    "                file_path = os.path.join(root, file)\n",
    "                try:\n",
    "                    os.remove(file_path)\n",
    "                except Exception as e:\n",
    "                    print(f\"Failed to delete {file_path}: {e}\")\n",
    "\n",
    "main_folder_path = 'server/images'\n",
    "delete_image_data_csv(main_folder_path)"
   ]
  },
  {
   "cell_type": "code",
   "execution_count": null,
   "metadata": {},
   "outputs": [],
   "source": [
    "import os\n",
    "import re\n",
    "import random\n",
    "import csv\n",
    "\n",
    "def find_existing_numbers(root_folder, limit=100000):\n",
    "    existing_numbers = set()\n",
    "    pattern = re.compile(r'image_(\\d+)\\.jpg')  \n",
    "    \n",
    "    for root, dirs, files in os.walk(root_folder):\n",
    "        for file in files:\n",
    "            match = pattern.match(file)\n",
    "            if match:\n",
    "                existing_numbers.add(int(match.group(1)))\n",
    "    \n",
    "    return existing_numbers\n",
    "\n",
    "def generate_unique_numbers(existing_numbers, limit=10000):\n",
    "    while True:\n",
    "        rand_num = random.randint(1, limit)\n",
    "        if rand_num not in existing_numbers:\n",
    "            existing_numbers.add(rand_num)\n",
    "            return rand_num\n",
    "\n",
    "def rename_images_and_update_csv(root_folder):\n",
    "    existing_numbers = find_existing_numbers(root_folder)\n",
    "\n",
    "    for root, dirs, files in os.walk(root_folder):\n",
    "        rename_map = {}\n",
    "        # Renaming the images first\n",
    "        for file in files:\n",
    "            if file.startswith('image_') and file.endswith('.jpg'):\n",
    "                old_image_path = os.path.join(root, file)\n",
    "                new_image_name = f\"image_{generate_unique_numbers(existing_numbers)}.jpg\"\n",
    "                new_image_path = os.path.join(root, new_image_name)\n",
    "                \n",
    "                os.rename(old_image_path, new_image_path)\n",
    "                rename_map[file.replace('.jpg', '')] = new_image_name.replace('.jpg', '')  # Map old to new name (without '.jpg')\n",
    "        \n",
    "        # Now update the CSV files in the same directory\n",
    "        for file in files:\n",
    "            if file.endswith('.csv'):\n",
    "                csv_file_path = os.path.join(root, file)\n",
    "                updated_csv_data = []\n",
    "                try:\n",
    "                    with open(csv_file_path, 'r') as csv_file:\n",
    "                        csv_reader = csv.reader(csv_file)\n",
    "                        header = next(csv_reader)\n",
    "                        updated_csv_data.append([rename_map.get(image_name) for image_name in header])\n",
    "\n",
    "                        # Update rows\n",
    "                        for row in csv_reader:\n",
    "                            row[0] = rename_map.get(row[0], row[0])  # Only update the first column (image names)\n",
    "                            updated_csv_data.append(row)\n",
    "\n",
    "                except Exception as e:\n",
    "                    print(f\"Error reading CSV {csv_file_path}: {e}\")\n",
    "                    continue\n",
    "                \n",
    "                try:\n",
    "                    with open(csv_file_path, 'w', newline='') as csv_file:\n",
    "                        csv_writer = csv.writer(csv_file)\n",
    "                        csv_writer.writerows(updated_csv_data)\n",
    "                    print(f\"Successfully updated CSV: {csv_file_path}\")\n",
    "                except Exception as e:\n",
    "                    print(f\"Error writing to CSV {csv_file_path}: {e}\")\n",
    "\n",
    "main_folder_path = 'server/images'\n",
    "rename_images_and_update_csv(main_folder_path)"
   ]
  },
  {
   "cell_type": "code",
   "execution_count": 3,
   "metadata": {},
   "outputs": [],
   "source": [
    "# make id_category (newly populated server/images)\n",
    "\n",
    "def get_img_csv_map(src_dir):\n",
    "    img_csv_map = {}\n",
    "    for website in os.listdir(src_dir):\n",
    "        website_path = os.path.join(src_dir, website)\n",
    "        if os.path.isdir(website_path):\n",
    "            for category in os.listdir(website_path):\n",
    "                category_path = os.path.join(website_path, category)\n",
    "                if os.path.isdir(category_path):\n",
    "                    csv_file = next((f for f in os.listdir(category_path) if f.endswith('.csv')), None)\n",
    "                    if csv_file:\n",
    "                        for img_file in os.listdir(category_path):\n",
    "                            if img_file.endswith('.jpg'):\n",
    "                                img_id = img_file.replace('.jpg', '')\n",
    "                                img_csv_map[img_id] = csv_file.replace('.csv', '')\n",
    "    return img_csv_map\n",
    "\n",
    "def save_json(data, out_file):\n",
    "    with open(out_file, 'w') as f:\n",
    "        json.dump(data, f, indent=4)\n",
    "\n",
    "if __name__ == \"__main__\":\n",
    "    img_csv_map = get_img_csv_map('server/images')\n",
    "    save_json(img_csv_map, 'server/id_category.json')\n"
   ]
  },
  {
   "cell_type": "code",
   "execution_count": null,
   "metadata": {},
   "outputs": [],
   "source": [
    "for root, dirs, files in os.walk('server/images'):\n",
    "        for file in files:\n",
    "            if file.endswith('.csv'):\n",
    "                print(file)"
   ]
  },
  {
   "cell_type": "code",
   "execution_count": 4,
   "metadata": {},
   "outputs": [
    {
     "data": {
      "text/plain": [
       "['image_1260', 'image_6350', 'image_904']"
      ]
     },
     "execution_count": 4,
     "metadata": {},
     "output_type": "execute_result"
    }
   ],
   "source": [
    "CACHE_DIR = 'client/cache'\n",
    "CACHE_METADATA_FILE = 'client/cache/cache_metadata.json'\n",
    "\n",
    "def load_cache_metadata():\n",
    "    if os.path.exists(CACHE_METADATA_FILE):\n",
    "        with open(CACHE_METADATA_FILE, 'r') as f:\n",
    "            data = json.load(f)\n",
    "            if isinstance(data, list):\n",
    "                return data\n",
    "            else:\n",
    "                return []\n",
    "    return []\n",
    "\n",
    "cache_metadata = load_cache_metadata()\n",
    "\n",
    "category = 'Education'\n",
    "[img['id'] for img in cache_metadata if img['category'] == category]"
   ]
  }
 ],
 "metadata": {
  "kernelspec": {
   "display_name": "Python 3",
   "language": "python",
   "name": "python3"
  },
  "language_info": {
   "codemirror_mode": {
    "name": "ipython",
    "version": 3
   },
   "file_extension": ".py",
   "mimetype": "text/x-python",
   "name": "python",
   "nbconvert_exporter": "python",
   "pygments_lexer": "ipython3",
   "version": "3.12.1"
  }
 },
 "nbformat": 4,
 "nbformat_minor": 2
}
